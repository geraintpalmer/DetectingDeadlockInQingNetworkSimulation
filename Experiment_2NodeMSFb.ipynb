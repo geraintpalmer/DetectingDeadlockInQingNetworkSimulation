{
 "cells": [
  {
   "cell_type": "code",
   "execution_count": 5,
   "metadata": {
    "collapsed": true
   },
   "outputs": [],
   "source": [
    "import ciw\n",
    "import csv\n",
    "import tqdm"
   ]
  },
  {
   "cell_type": "code",
   "execution_count": 6,
   "metadata": {
    "collapsed": true
   },
   "outputs": [],
   "source": [
    "assert ciw.__version__ == '1.0.0'\n",
    "assert tqdm.__version__ == '4.11.2'"
   ]
  },
  {
   "cell_type": "markdown",
   "metadata": {},
   "source": [
    "### 2 Node Single Server with feedback loops"
   ]
  },
  {
   "cell_type": "code",
   "execution_count": 7,
   "metadata": {
    "collapsed": true
   },
   "outputs": [],
   "source": [
    "params = {\n",
    "    'Arrival_distributions': [['Exponential', 4.0], ['Exponential', 5.0]],\n",
    "    'Service_distributions': [['Exponential', 10.0], ['Exponential', 8.0]],\n",
    "    'Transition_matrices': [[0.1, 0.25], [0.15, 0.1]],\n",
    "    'Number_of_servers': [1, 1],\n",
    "    'Queue_capacities': [3, 2]\n",
    "}"
   ]
  },
  {
   "cell_type": "code",
   "execution_count": 8,
   "metadata": {
    "collapsed": true
   },
   "outputs": [],
   "source": [
    "L1s = [2.5, 3.5, 4.5, 5.5, 6.5, 7.5, 8.5, 9.5, 10.5, 11.5, 12.5, 13.5]\n",
    "L2s = [2.5, 3.5, 4.5, 5.5, 6.5, 7.5, 8.5, 9.5, 10.5, 11.5, 12.5, 13.5]\n",
    "mu1s = [2.5, 3.5, 4.5, 5.5, 6.5, 7.5, 8.5, 9.5, 10.5, 11.5, 12.5, 13.5]\n",
    "mu2s = [2.5, 3.5, 4.5, 5.5, 6.5, 7.5, 8.5, 9.5, 10.5, 11.5, 12.5, 13.5]\n",
    "n1s = [0, 1, 2, 3, 4, 5, 6]\n",
    "n2s = [0, 1, 2, 3, 4, 5, 6]"
   ]
  },
  {
   "cell_type": "code",
   "execution_count": 9,
   "metadata": {},
   "outputs": [
    {
     "data": {
      "application/vnd.jupyter.widget-view+json": {
       "model_id": "087df68b83434826bcf64b33f167c060"
      }
     },
     "metadata": {},
     "output_type": "display_data"
    },
    {
     "data": {
      "application/vnd.jupyter.widget-view+json": {
       "model_id": "83a25b88e8194b44b1c7b3e0bc22259c"
      }
     },
     "metadata": {},
     "output_type": "display_data"
    },
    {
     "data": {
      "application/vnd.jupyter.widget-view+json": {
       "model_id": "b4102bcb786740a3b308b0bdcd4b7a45"
      }
     },
     "metadata": {},
     "output_type": "display_data"
    },
    {
     "data": {
      "application/vnd.jupyter.widget-view+json": {
       "model_id": "4f5df43f488c4b7f90bc14742541675d"
      }
     },
     "metadata": {},
     "output_type": "display_data"
    },
    {
     "data": {
      "application/vnd.jupyter.widget-view+json": {
       "model_id": "f8b983368d914e609743d06c4550ce18"
      }
     },
     "metadata": {},
     "output_type": "display_data"
    },
    {
     "data": {
      "application/vnd.jupyter.widget-view+json": {
       "model_id": "3f0ed78505974b5fa0eb3b558bb27888"
      }
     },
     "metadata": {},
     "output_type": "display_data"
    },
    {
     "data": {
      "application/vnd.jupyter.widget-view+json": {
       "model_id": "7d4e3d5f1503443fada2805da49fe4b7"
      }
     },
     "metadata": {},
     "output_type": "display_data"
    },
    {
     "data": {
      "application/vnd.jupyter.widget-view+json": {
       "model_id": "3317b3b08e464c51ad1196464d38f1e6"
      }
     },
     "metadata": {},
     "output_type": "display_data"
    },
    {
     "data": {
      "application/vnd.jupyter.widget-view+json": {
       "model_id": "6fd0b0736b6e4c48ace72e093ceff0ed"
      }
     },
     "metadata": {},
     "output_type": "display_data"
    },
    {
     "data": {
      "application/vnd.jupyter.widget-view+json": {
       "model_id": "d3c7bf0afd5f4f5192131fad7bc1fab0"
      }
     },
     "metadata": {},
     "output_type": "display_data"
    },
    {
     "data": {
      "application/vnd.jupyter.widget-view+json": {
       "model_id": "5b4b4f8e9e244a18b05105f575e26a9b"
      }
     },
     "metadata": {},
     "output_type": "display_data"
    },
    {
     "data": {
      "application/vnd.jupyter.widget-view+json": {
       "model_id": "970a572d2202495290c96c519f19149c"
      }
     },
     "metadata": {},
     "output_type": "display_data"
    },
    {
     "data": {
      "application/vnd.jupyter.widget-view+json": {
       "model_id": "3107bf179ced42f283870c34cdf7b5d6"
      }
     },
     "metadata": {},
     "output_type": "display_data"
    },
    {
     "name": "stdout",
     "output_type": "stream",
     "text": [
      "\n"
     ]
    }
   ],
   "source": [
    "overall_times_to_deadlock_L1 = {}\n",
    "for L in tqdm.tqdm_notebook(L1s):\n",
    "    N = ciw.create_network(**params)\n",
    "    N.customer_classes[0].arrival_distributions[0][1] = L\n",
    "    overall_times_to_deadlock_L1[L] = []\n",
    "    for repetition in tqdm.tqdm_notebook(range(10000)):\n",
    "        ciw.seed(repetition)\n",
    "        Q = ciw.Simulation(N, deadlock_detector='StateDigraph')\n",
    "        Q.simulate_until_deadlock()\n",
    "        overall_times_to_deadlock_L1[L].append(Q.times_to_deadlock[((0, 0),  (0, 0))])"
   ]
  },
  {
   "cell_type": "code",
   "execution_count": 10,
   "metadata": {
    "collapsed": true
   },
   "outputs": [],
   "source": [
    "to_csv = []\n",
    "for L in overall_times_to_deadlock_L1:\n",
    "    row = [L] + overall_times_to_deadlock_L1[L]\n",
    "    to_csv.append(row)\n",
    "\n",
    "\n",
    "with open('data_for_paper/2NodeMSfb/deadlocking_times_L1.csv', 'w') as csvfile:\n",
    "    csvwriter = csv.writer(csvfile)\n",
    "    for row in to_csv:\n",
    "        csvwriter.writerow(row)"
   ]
  },
  {
   "cell_type": "code",
   "execution_count": 11,
   "metadata": {},
   "outputs": [
    {
     "data": {
      "application/vnd.jupyter.widget-view+json": {
       "model_id": "aaae566dfd0a4654b561bfe11acce63c"
      }
     },
     "metadata": {},
     "output_type": "display_data"
    },
    {
     "data": {
      "application/vnd.jupyter.widget-view+json": {
       "model_id": "39783cbdbe6d4edda399e628bfe048b5"
      }
     },
     "metadata": {},
     "output_type": "display_data"
    },
    {
     "data": {
      "application/vnd.jupyter.widget-view+json": {
       "model_id": "09e64dadbd1b49e4ba73098bfbf21004"
      }
     },
     "metadata": {},
     "output_type": "display_data"
    },
    {
     "data": {
      "application/vnd.jupyter.widget-view+json": {
       "model_id": "09b221aeb5944331bdd699a4c918b3ce"
      }
     },
     "metadata": {},
     "output_type": "display_data"
    },
    {
     "data": {
      "application/vnd.jupyter.widget-view+json": {
       "model_id": "e324cf1fe0cc45bd98621ee0e9d98a2d"
      }
     },
     "metadata": {},
     "output_type": "display_data"
    },
    {
     "data": {
      "application/vnd.jupyter.widget-view+json": {
       "model_id": "c1e93016c1054fa8b8a811c4dc3add8b"
      }
     },
     "metadata": {},
     "output_type": "display_data"
    },
    {
     "data": {
      "application/vnd.jupyter.widget-view+json": {
       "model_id": "f9f7bc53d378448fac4d4cbdee2ef0f7"
      }
     },
     "metadata": {},
     "output_type": "display_data"
    },
    {
     "data": {
      "application/vnd.jupyter.widget-view+json": {
       "model_id": "b3d46351f9244c17abd97a5971462ec0"
      }
     },
     "metadata": {},
     "output_type": "display_data"
    },
    {
     "data": {
      "application/vnd.jupyter.widget-view+json": {
       "model_id": "34c510a8672a4e1e82c98b8d0bc30e18"
      }
     },
     "metadata": {},
     "output_type": "display_data"
    },
    {
     "data": {
      "application/vnd.jupyter.widget-view+json": {
       "model_id": "c1ade0c670f448e6a87be013c6651abb"
      }
     },
     "metadata": {},
     "output_type": "display_data"
    },
    {
     "data": {
      "application/vnd.jupyter.widget-view+json": {
       "model_id": "ab5616a69d914f2788140c57dceb07ab"
      }
     },
     "metadata": {},
     "output_type": "display_data"
    },
    {
     "data": {
      "application/vnd.jupyter.widget-view+json": {
       "model_id": "076152888fbf4e85ac4a24ddb2225a0a"
      }
     },
     "metadata": {},
     "output_type": "display_data"
    },
    {
     "data": {
      "application/vnd.jupyter.widget-view+json": {
       "model_id": "25911f2ecc2a4882adc87c1cbe7c85b8"
      }
     },
     "metadata": {},
     "output_type": "display_data"
    },
    {
     "name": "stdout",
     "output_type": "stream",
     "text": [
      "\n"
     ]
    }
   ],
   "source": [
    "overall_times_to_deadlock_L2 = {}\n",
    "for L in tqdm.tqdm_notebook(L2s):\n",
    "    N = ciw.create_network(**params)\n",
    "    N.customer_classes[0].arrival_distributions[1][1] = L\n",
    "    overall_times_to_deadlock_L2[L] = []\n",
    "    for repetition in tqdm.tqdm_notebook(range(10000)):\n",
    "        ciw.seed(repetition)\n",
    "        Q = ciw.Simulation(N, deadlock_detector='StateDigraph')\n",
    "        Q.simulate_until_deadlock()\n",
    "        overall_times_to_deadlock_L2[L].append(Q.times_to_deadlock[((0, 0),  (0, 0))])"
   ]
  },
  {
   "cell_type": "code",
   "execution_count": 12,
   "metadata": {
    "collapsed": true
   },
   "outputs": [],
   "source": [
    "to_csv = []\n",
    "for L in overall_times_to_deadlock_L2:\n",
    "    row = [L] + overall_times_to_deadlock_L2[L]\n",
    "    to_csv.append(row)\n",
    "\n",
    "\n",
    "with open('data_for_paper/2NodeMSfb/deadlocking_times_L2.csv', 'w') as csvfile:\n",
    "    csvwriter = csv.writer(csvfile)\n",
    "    for row in to_csv:\n",
    "        csvwriter.writerow(row)"
   ]
  },
  {
   "cell_type": "code",
   "execution_count": 13,
   "metadata": {},
   "outputs": [
    {
     "data": {
      "application/vnd.jupyter.widget-view+json": {
       "model_id": "e22fb1b7db15489684c076b9cc49e303"
      }
     },
     "metadata": {},
     "output_type": "display_data"
    },
    {
     "data": {
      "application/vnd.jupyter.widget-view+json": {
       "model_id": "a78e298c4fc74c919908abadcb982c3c"
      }
     },
     "metadata": {},
     "output_type": "display_data"
    },
    {
     "data": {
      "application/vnd.jupyter.widget-view+json": {
       "model_id": "a6b20e69b39346cfbcfcbe6f0c895610"
      }
     },
     "metadata": {},
     "output_type": "display_data"
    },
    {
     "data": {
      "application/vnd.jupyter.widget-view+json": {
       "model_id": "efd6f49c252e43c2a98dc68c575ffa1d"
      }
     },
     "metadata": {},
     "output_type": "display_data"
    },
    {
     "data": {
      "application/vnd.jupyter.widget-view+json": {
       "model_id": "7a0378441ae14f5f924861e136633532"
      }
     },
     "metadata": {},
     "output_type": "display_data"
    },
    {
     "data": {
      "application/vnd.jupyter.widget-view+json": {
       "model_id": "e90a63318be64e6380e1d53fbf335b88"
      }
     },
     "metadata": {},
     "output_type": "display_data"
    },
    {
     "data": {
      "application/vnd.jupyter.widget-view+json": {
       "model_id": "9a940b75e2cf42fab343dd846676f915"
      }
     },
     "metadata": {},
     "output_type": "display_data"
    },
    {
     "data": {
      "application/vnd.jupyter.widget-view+json": {
       "model_id": "0692d1895f99496fa94ca41cdd65c769"
      }
     },
     "metadata": {},
     "output_type": "display_data"
    },
    {
     "data": {
      "application/vnd.jupyter.widget-view+json": {
       "model_id": "1dd4dfe9d4a546898262a6c24ff605fe"
      }
     },
     "metadata": {},
     "output_type": "display_data"
    },
    {
     "data": {
      "application/vnd.jupyter.widget-view+json": {
       "model_id": "d1e4c4ce73ba4a33966c9a980415152c"
      }
     },
     "metadata": {},
     "output_type": "display_data"
    },
    {
     "data": {
      "application/vnd.jupyter.widget-view+json": {
       "model_id": "f2999596c22c4846ae09e149fe0220cc"
      }
     },
     "metadata": {},
     "output_type": "display_data"
    },
    {
     "data": {
      "application/vnd.jupyter.widget-view+json": {
       "model_id": "99957c682b60480b91753a33170dd075"
      }
     },
     "metadata": {},
     "output_type": "display_data"
    },
    {
     "data": {
      "application/vnd.jupyter.widget-view+json": {
       "model_id": "f84d8ff066a54066bb124f49da95bb54"
      }
     },
     "metadata": {},
     "output_type": "display_data"
    },
    {
     "name": "stdout",
     "output_type": "stream",
     "text": [
      "\n"
     ]
    }
   ],
   "source": [
    "overall_times_to_deadlock_mu1 = {}\n",
    "for mu in tqdm.tqdm_notebook(mu1s):\n",
    "    N = ciw.create_network(**params)\n",
    "    N.customer_classes[0].service_distributions[0][1] = mu\n",
    "    overall_times_to_deadlock_mu1[mu] = []\n",
    "    for repetition in tqdm.tqdm_notebook(range(10000)):\n",
    "        ciw.seed(repetition)\n",
    "        Q = ciw.Simulation(N, deadlock_detector='StateDigraph')\n",
    "        Q.simulate_until_deadlock()\n",
    "        overall_times_to_deadlock_mu1[mu].append(Q.times_to_deadlock[((0, 0),  (0, 0))])"
   ]
  },
  {
   "cell_type": "code",
   "execution_count": 14,
   "metadata": {
    "collapsed": true
   },
   "outputs": [],
   "source": [
    "to_csv = []\n",
    "for mu in overall_times_to_deadlock_mu1:\n",
    "    row = [mu] + overall_times_to_deadlock_mu1[mu]\n",
    "    to_csv.append(row)\n",
    "\n",
    "\n",
    "with open('data_for_paper/2NodeMSfb/deadlocking_times_mu1.csv', 'w') as csvfile:\n",
    "    csvwriter = csv.writer(csvfile)\n",
    "    for row in to_csv:\n",
    "        csvwriter.writerow(row)"
   ]
  },
  {
   "cell_type": "code",
   "execution_count": 15,
   "metadata": {},
   "outputs": [
    {
     "data": {
      "application/vnd.jupyter.widget-view+json": {
       "model_id": "5723de6f6e7e4eeba9ce89bd91536492"
      }
     },
     "metadata": {},
     "output_type": "display_data"
    },
    {
     "data": {
      "application/vnd.jupyter.widget-view+json": {
       "model_id": "4a5147e65dc14b698cb2582e5cad614e"
      }
     },
     "metadata": {},
     "output_type": "display_data"
    },
    {
     "data": {
      "application/vnd.jupyter.widget-view+json": {
       "model_id": "74aeb59ceaae4bed98c9b16b958c279b"
      }
     },
     "metadata": {},
     "output_type": "display_data"
    },
    {
     "data": {
      "application/vnd.jupyter.widget-view+json": {
       "model_id": "77bcbc2a114045efb40c0c4786635652"
      }
     },
     "metadata": {},
     "output_type": "display_data"
    },
    {
     "data": {
      "application/vnd.jupyter.widget-view+json": {
       "model_id": "61aa4dda7ec94318a7021246f5b06ca9"
      }
     },
     "metadata": {},
     "output_type": "display_data"
    },
    {
     "data": {
      "application/vnd.jupyter.widget-view+json": {
       "model_id": "dab55faf5b474ed6b2948278fa740a07"
      }
     },
     "metadata": {},
     "output_type": "display_data"
    },
    {
     "data": {
      "application/vnd.jupyter.widget-view+json": {
       "model_id": "53583d20927b473a94298fd15624ed44"
      }
     },
     "metadata": {},
     "output_type": "display_data"
    },
    {
     "data": {
      "application/vnd.jupyter.widget-view+json": {
       "model_id": "22cba8a28b624dc2abe79ea7a336ae43"
      }
     },
     "metadata": {},
     "output_type": "display_data"
    },
    {
     "data": {
      "application/vnd.jupyter.widget-view+json": {
       "model_id": "da169c173efa48d39361d27c59888c33"
      }
     },
     "metadata": {},
     "output_type": "display_data"
    },
    {
     "data": {
      "application/vnd.jupyter.widget-view+json": {
       "model_id": "b0fb6ef49e174a8a919cc8744e86c814"
      }
     },
     "metadata": {},
     "output_type": "display_data"
    },
    {
     "data": {
      "application/vnd.jupyter.widget-view+json": {
       "model_id": "ce428bcda96446f19a0f350078f4d3a6"
      }
     },
     "metadata": {},
     "output_type": "display_data"
    },
    {
     "data": {
      "application/vnd.jupyter.widget-view+json": {
       "model_id": "c6ad0dca14b3462f9734c1879c6748e9"
      }
     },
     "metadata": {},
     "output_type": "display_data"
    },
    {
     "data": {
      "application/vnd.jupyter.widget-view+json": {
       "model_id": "59b84b2e7de84280b44d3b55e0bd6e38"
      }
     },
     "metadata": {},
     "output_type": "display_data"
    },
    {
     "name": "stdout",
     "output_type": "stream",
     "text": [
      "\n"
     ]
    }
   ],
   "source": [
    "overall_times_to_deadlock_mu2 = {}\n",
    "for mu in tqdm.tqdm_notebook(mu2s):\n",
    "    N = ciw.create_network(**params)\n",
    "    N.customer_classes[0].service_distributions[1][1] = mu\n",
    "    overall_times_to_deadlock_mu2[mu] = []\n",
    "    for repetition in tqdm.tqdm_notebook(range(10000)):\n",
    "        ciw.seed(repetition)\n",
    "        Q = ciw.Simulation(N, deadlock_detector='StateDigraph')\n",
    "        Q.simulate_until_deadlock()\n",
    "        overall_times_to_deadlock_mu2[mu].append(Q.times_to_deadlock[((0, 0),  (0, 0))])"
   ]
  },
  {
   "cell_type": "code",
   "execution_count": 16,
   "metadata": {
    "collapsed": true
   },
   "outputs": [],
   "source": [
    "to_csv = []\n",
    "for mu in overall_times_to_deadlock_mu2:\n",
    "    row = [mu] + overall_times_to_deadlock_mu2[mu]\n",
    "    to_csv.append(row)\n",
    "\n",
    "\n",
    "with open('data_for_paper/2NodeMSfb/deadlocking_times_mu2.csv', 'w') as csvfile:\n",
    "    csvwriter = csv.writer(csvfile)\n",
    "    for row in to_csv:\n",
    "        csvwriter.writerow(row)"
   ]
  },
  {
   "cell_type": "code",
   "execution_count": 17,
   "metadata": {},
   "outputs": [
    {
     "data": {
      "application/vnd.jupyter.widget-view+json": {
       "model_id": "afaad436676f431690b0c2204bae5a11"
      }
     },
     "metadata": {},
     "output_type": "display_data"
    },
    {
     "data": {
      "application/vnd.jupyter.widget-view+json": {
       "model_id": "9b1d79ef5cb14821b45f9bebf6e0f280"
      }
     },
     "metadata": {},
     "output_type": "display_data"
    },
    {
     "data": {
      "application/vnd.jupyter.widget-view+json": {
       "model_id": "3f4dd425ddda4e88bf71c9ee7ee8aaac"
      }
     },
     "metadata": {},
     "output_type": "display_data"
    },
    {
     "data": {
      "application/vnd.jupyter.widget-view+json": {
       "model_id": "1d8ab70edc48499288243081f093ab58"
      }
     },
     "metadata": {},
     "output_type": "display_data"
    },
    {
     "data": {
      "application/vnd.jupyter.widget-view+json": {
       "model_id": "07dd4a6b9cbb46b881e5a589322f1a1f"
      }
     },
     "metadata": {},
     "output_type": "display_data"
    },
    {
     "data": {
      "application/vnd.jupyter.widget-view+json": {
       "model_id": "a6653071152344878b11c23a70944be0"
      }
     },
     "metadata": {},
     "output_type": "display_data"
    },
    {
     "data": {
      "application/vnd.jupyter.widget-view+json": {
       "model_id": "678837593d1b41d899985c11431ebdb4"
      }
     },
     "metadata": {},
     "output_type": "display_data"
    },
    {
     "data": {
      "application/vnd.jupyter.widget-view+json": {
       "model_id": "ade72849e17a420a8e704c38476c00f2"
      }
     },
     "metadata": {},
     "output_type": "display_data"
    },
    {
     "name": "stdout",
     "output_type": "stream",
     "text": [
      "\n"
     ]
    }
   ],
   "source": [
    "overall_times_to_deadlock_n1 = {}\n",
    "for n in tqdm.tqdm_notebook(n1s):\n",
    "    N = ciw.create_network(**params)\n",
    "    N.service_centres[0].queueing_capacity = n\n",
    "    overall_times_to_deadlock_n1[n] = []\n",
    "    for repetition in tqdm.tqdm_notebook(range(10000)):\n",
    "        ciw.seed(repetition)\n",
    "        Q = ciw.Simulation(N, deadlock_detector='StateDigraph')\n",
    "        Q.simulate_until_deadlock()\n",
    "        overall_times_to_deadlock_n1[n].append(Q.times_to_deadlock[((0, 0),  (0, 0))])"
   ]
  },
  {
   "cell_type": "code",
   "execution_count": 18,
   "metadata": {
    "collapsed": true
   },
   "outputs": [],
   "source": [
    "to_csv = []\n",
    "for n in overall_times_to_deadlock_n1:\n",
    "    row = [n] + overall_times_to_deadlock_n1[n]\n",
    "    to_csv.append(row)\n",
    "\n",
    "\n",
    "with open('data_for_paper/2NodeMSfb/deadlocking_times_n1.csv', 'w') as csvfile:\n",
    "    csvwriter = csv.writer(csvfile)\n",
    "    for row in to_csv:\n",
    "        csvwriter.writerow(row)"
   ]
  },
  {
   "cell_type": "code",
   "execution_count": 19,
   "metadata": {},
   "outputs": [
    {
     "data": {
      "application/vnd.jupyter.widget-view+json": {
       "model_id": "299ed97d62934b0ab55a336c3987eb00"
      }
     },
     "metadata": {},
     "output_type": "display_data"
    },
    {
     "data": {
      "application/vnd.jupyter.widget-view+json": {
       "model_id": "8c79ca9bd5b84d86b2efc933f60eabb7"
      }
     },
     "metadata": {},
     "output_type": "display_data"
    },
    {
     "data": {
      "application/vnd.jupyter.widget-view+json": {
       "model_id": "f7ffe181f58046c6b83108a8fb45aa42"
      }
     },
     "metadata": {},
     "output_type": "display_data"
    },
    {
     "data": {
      "application/vnd.jupyter.widget-view+json": {
       "model_id": "b20df4ce7e834e09b38afa3d0a5a8e71"
      }
     },
     "metadata": {},
     "output_type": "display_data"
    },
    {
     "data": {
      "application/vnd.jupyter.widget-view+json": {
       "model_id": "02e666278aa946ae99cfd37395a2b24a"
      }
     },
     "metadata": {},
     "output_type": "display_data"
    },
    {
     "data": {
      "application/vnd.jupyter.widget-view+json": {
       "model_id": "133845729d7f4fc39c2c15a76c636c2c"
      }
     },
     "metadata": {},
     "output_type": "display_data"
    },
    {
     "data": {
      "application/vnd.jupyter.widget-view+json": {
       "model_id": "3e5b67513c1e4c7485b70209d5193199"
      }
     },
     "metadata": {},
     "output_type": "display_data"
    },
    {
     "data": {
      "application/vnd.jupyter.widget-view+json": {
       "model_id": "839979a965f54ff8bd03ea1a32677392"
      }
     },
     "metadata": {},
     "output_type": "display_data"
    },
    {
     "name": "stdout",
     "output_type": "stream",
     "text": [
      "\n"
     ]
    }
   ],
   "source": [
    "overall_times_to_deadlock_n2 = {}\n",
    "for n in tqdm.tqdm_notebook(n2s):\n",
    "    N = ciw.create_network(**params)\n",
    "    N.service_centres[1].queueing_capacity = n\n",
    "    overall_times_to_deadlock_n2[n] = []\n",
    "    for repetition in tqdm.tqdm_notebook(range(10000)):\n",
    "        ciw.seed(repetition)\n",
    "        Q = ciw.Simulation(N, deadlock_detector='StateDigraph')\n",
    "        Q.simulate_until_deadlock()\n",
    "        overall_times_to_deadlock_n2[n].append(Q.times_to_deadlock[((0, 0),  (0, 0))])"
   ]
  },
  {
   "cell_type": "code",
   "execution_count": 20,
   "metadata": {
    "collapsed": true
   },
   "outputs": [],
   "source": [
    "to_csv = []\n",
    "for n in overall_times_to_deadlock_n2:\n",
    "    row = [n] + overall_times_to_deadlock_n2[n]\n",
    "    to_csv.append(row)\n",
    "\n",
    "\n",
    "with open('data_for_paper/2NodeMSfb/deadlocking_times_n2.csv', 'w') as csvfile:\n",
    "    csvwriter = csv.writer(csvfile)\n",
    "    for row in to_csv:\n",
    "        csvwriter.writerow(row)"
   ]
  },
  {
   "cell_type": "code",
   "execution_count": null,
   "metadata": {
    "collapsed": true
   },
   "outputs": [],
   "source": []
  },
  {
   "cell_type": "code",
   "execution_count": null,
   "metadata": {
    "collapsed": true
   },
   "outputs": [],
   "source": []
  }
 ],
 "metadata": {
  "kernelspec": {
   "display_name": "Python 3",
   "language": "python",
   "name": "python3"
  },
  "language_info": {
   "codemirror_mode": {
    "name": "ipython",
    "version": 3
   },
   "file_extension": ".py",
   "mimetype": "text/x-python",
   "name": "python",
   "nbconvert_exporter": "python",
   "pygments_lexer": "ipython3",
   "version": "3.5.1"
  }
 },
 "nbformat": 4,
 "nbformat_minor": 2
}
