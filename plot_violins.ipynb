{
 "cells": [
  {
   "cell_type": "code",
   "execution_count": 184,
   "metadata": {
    "collapsed": true
   },
   "outputs": [],
   "source": [
    "%matplotlib inline"
   ]
  },
  {
   "cell_type": "code",
   "execution_count": 185,
   "metadata": {},
   "outputs": [],
   "source": [
    "from __future__ import division\n",
    "import os\n",
    "from csv import writer\n",
    "import yaml\n",
    "import matplotlib.pyplot as plt\n",
    "from csv import reader\n",
    "import numpy as np\n",
    "import pylab\n",
    "import seaborn as sns\n",
    "sns.set(style=\"whitegrid\")"
   ]
  },
  {
   "cell_type": "code",
   "execution_count": 186,
   "metadata": {
    "collapsed": true
   },
   "outputs": [],
   "source": [
    "dirname_th = 'data_for_graphs/1Node_MultiServer/run_10000_itrs/'\n",
    "dirname_sim = 'data_for_paper/1NodeMS/'\n",
    "stateth = '0'\n",
    "state = '((0, 0),)'\n",
    "begin = 1\n",
    "end = 5\n",
    "step = 1\n",
    "var = 'c'\n",
    "leg_loc = 'l'\n",
    "line_colour = 'darkgreen'\n",
    "plot_colour = 'darkorange'\n",
    "filename = 'vary' + var + '.pdf'"
   ]
  },
  {
   "cell_type": "code",
   "execution_count": 187,
   "metadata": {},
   "outputs": [],
   "source": [
    "Ls = [round(i*step + begin, 2) for i in range(int((end-begin)/step)+1)]\n",
    "mean_times_to_deadlock = []\n",
    "median_times_to_deadlock = []\n",
    "simulation_results = []\n",
    "root = os.getcwd()\n",
    "directoryth = os.path.join(root, dirname_th)\n",
    "directorys = os.path.join(root, dirname_sim)"
   ]
  },
  {
   "cell_type": "code",
   "execution_count": 188,
   "metadata": {},
   "outputs": [],
   "source": [
    "for i in Ls:\n",
    "    if var[0] == 'n' or var[0] == 'c':\n",
    "        parameter_file_name = directoryth + 'vary_' + var + '/theoretical_results_%s.yml' % str(int(i))\n",
    "    else:\n",
    "        parameter_file_name = directoryth + 'vary_' + var + '/theoretical_results_%s.yml' % str(i)\n",
    "    parameter_file = open(parameter_file_name, 'r')\n",
    "    parameters = yaml.load(parameter_file)\n",
    "    parameter_file.close()\n",
    "    mean_times_to_deadlock.append(parameters[stateth])"
   ]
  },
  {
   "cell_type": "code",
   "execution_count": 189,
   "metadata": {
    "scrolled": false
   },
   "outputs": [
    {
     "name": "stdout",
     "output_type": "stream",
     "text": [
      "dict_keys(['3', '2', '4', '1', '5'])\n"
     ]
    }
   ],
   "source": [
    "parameter_file_name = directorys + 'deadlocking_times_' + var + '.csv'\n",
    "parameter_file = open(parameter_file_name, 'r')\n",
    "rdr = reader(parameter_file)\n",
    "temp = {}\n",
    "for row in rdr:\n",
    "    temp[row[0]] = row[1:]\n",
    "print(temp.keys())\n",
    "simulation_results = []\n",
    "for i in Ls:\n",
    "    simulation_results.append([float(obs) for obs in temp[str(i)]])\n",
    "parameter_file.close()"
   ]
  },
  {
   "cell_type": "code",
   "execution_count": 190,
   "metadata": {
    "collapsed": true
   },
   "outputs": [],
   "source": [
    "simulation_results_no_outliers = []\n",
    "for data_series in simulation_results:\n",
    "    q75, q25 = np.percentile(data_series, [75 ,25])\n",
    "    iqr = q75 - q25\n",
    "    upper = q75 + (1.5*iqr)\n",
    "    lower = q25 - (1.5*iqr)\n",
    "    new_data = [obs for obs in data_series if obs > lower and obs < upper]\n",
    "    simulation_results_no_outliers.append(new_data)"
   ]
  },
  {
   "cell_type": "code",
   "execution_count": null,
   "metadata": {},
   "outputs": [],
   "source": []
  },
  {
   "cell_type": "code",
   "execution_count": 191,
   "metadata": {
    "collapsed": true
   },
   "outputs": [],
   "source": [
    "if var[0] == 'c' or var[0] == 'n':\n",
    "    Ls_show = [int(obs) for obs in Ls]\n",
    "else:\n",
    "    Ls_show = Ls"
   ]
  },
  {
   "cell_type": "code",
   "execution_count": 192,
   "metadata": {},
   "outputs": [],
   "source": [
    "def plot_ttd(top=None):\n",
    "\n",
    "    fig, ax = plt.subplots()\n",
    "    plt.plot(Ls_show, mean_times_to_deadlock, linewidth=2, label='Analytical Mean', color=line_colour)\n",
    "    plt.plot([], [], 'r', linewidth=2, label='Simulation Results', color=plot_colour)\n",
    "    meanpointprops = dict(marker='D', markeredgecolor='black',\n",
    "                          markerfacecolor=plot_colour)\n",
    "    bp = plt.boxplot(simulation_results, positions=Ls_show, widths=step/2, meanprops=meanpointprops, meanline=False, showmeans=True, sym='')\n",
    "    for median in bp['medians']:\n",
    "        median.set(color=plot_colour, linewidth=2)\n",
    "    pylab.setp(bp['boxes'], color=plot_colour)\n",
    "    pylab.setp(bp['whiskers'], color=plot_colour)\n",
    "\n",
    "\n",
    "    vp = plt.violinplot(simulation_results_no_outliers, widths=step/1.5, positions=Ls, showmeans=False, showmedians=False, showextrema=False)\n",
    "    pylab.setp(vp['bodies'], color=plot_colour)\n",
    "\n",
    "    if var[0] == 'L':\n",
    "        ax.set_xlabel(r'$\\Lambda_{'+var[1:]+'}$', fontsize=18)\n",
    "    if var[0] == 'm':\n",
    "        ax.set_xlabel(r'$\\mu_{'+var[2:]+'}$', fontsize=18)\n",
    "    if var[0] == 'n':\n",
    "        ax.set_xlabel(r'$n_{'+var[1:]+'}$', fontsize=18)\n",
    "    if var[0] == 'c':\n",
    "        ax.set_xlabel(r'$c_{'+var[1:]+'}$', fontsize=18)\n",
    "    if var[0] == 'r':\n",
    "        ax.set_xlabel(r'$r_{'+var[1:]+'}$', fontsize=18)\n",
    "\n",
    "    ax.set_ylabel('Time to Deadlock from ' + stateth, fontsize=18)\n",
    "\n",
    "    ax.set_xlim(begin - step/2, end + step/2)\n",
    "    ax.set_ylim(bottom=0, top=top)\n",
    "\n",
    "    for tick in ax.xaxis.get_major_ticks():\n",
    "        tick.label.set_fontsize(14)\n",
    "    for tick in ax.yaxis.get_major_ticks():\n",
    "        tick.label.set_fontsize(14) \n",
    "\n",
    "    if leg_loc == 'l':\n",
    "        loc=2\n",
    "    if leg_loc == 'r':\n",
    "        loc=1\n",
    "\n",
    "    legend = plt.legend(loc=loc, prop={'size':20}, frameon=1)\n",
    "    frame = legend.get_frame()\n",
    "    frame.set_facecolor('white')\n",
    "    frame.set_edgecolor('grey')\n",
    "\n",
    "\n",
    "    return fig"
   ]
  },
  {
   "cell_type": "code",
   "execution_count": 193,
   "metadata": {},
   "outputs": [
    {
     "data": {
      "image/png": "[encoded data removed]",
      "text/plain": [
       "<matplotlib.figure.Figure at 0x1196a9438>"
      ]
     },
     "metadata": {},
     "output_type": "display_data"
    }
   ],
   "source": [
    "fig = plot_ttd();\n",
    "fig.savefig(filename)"
   ]
  },
  {
   "cell_type": "code",
   "execution_count": null,
   "metadata": {
    "collapsed": true
   },
   "outputs": [],
   "source": []
  },
  {
   "cell_type": "code",
   "execution_count": null,
   "metadata": {
    "collapsed": true
   },
   "outputs": [],
   "source": []
  }
 ],
 "metadata": {
  "kernelspec": {
   "display_name": "Python 3",
   "language": "python",
   "name": "python3"
  },
  "language_info": {
   "codemirror_mode": {
    "name": "ipython",
    "version": 3
   },
   "file_extension": ".py",
   "mimetype": "text/x-python",
   "name": "python",
   "nbconvert_exporter": "python",
   "pygments_lexer": "ipython3",
   "version": "3.5.1"
  }
 },
 "nbformat": 4,
 "nbformat_minor": 1
}
