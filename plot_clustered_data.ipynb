{
 "cells": [
  {
   "cell_type": "markdown",
   "metadata": {},
   "source": [
    "## Load in Clustered data"
   ]
  },
  {
   "cell_type": "code",
   "execution_count": 28,
   "metadata": {
    "collapsed": true
   },
   "outputs": [],
   "source": [
    "%matplotlib inline"
   ]
  },
  {
   "cell_type": "code",
   "execution_count": 29,
   "metadata": {
    "collapsed": false
   },
   "outputs": [],
   "source": [
    "import matplotlib.pyplot as plt\n",
    "import csv\n",
    "from sklearn import cluster\n",
    "import numpy as np\n",
    "import seaborn as sns\n",
    "sns.set(style=\"whitegrid\")"
   ]
  },
  {
   "cell_type": "code",
   "execution_count": 30,
   "metadata": {
    "collapsed": true
   },
   "outputs": [],
   "source": [
    "bound_data = []\n",
    "file_name = 'data_for_graphs/clustered_bound_data.csv'\n",
    "data_file = open(file_name, 'r')\n",
    "rdr = csv.reader(data_file)\n",
    "for row in rdr:\n",
    "    bound_data.append([float(obs) for obs in row])"
   ]
  },
  {
   "cell_type": "code",
   "execution_count": 31,
   "metadata": {
    "collapsed": false
   },
   "outputs": [
    {
     "name": "stdout",
     "output_type": "stream",
     "text": [
      "[0.1, 0.1, 1.0, 1.0, 0.0, 0.0, 0.2, 0.2, 0.2, 0.2, 80.0, 57.14912280701755, 3.5009596928982725, 1.0]\n"
     ]
    }
   ],
   "source": [
    "print bound_data[0]"
   ]
  },
  {
   "cell_type": "code",
   "execution_count": 32,
   "metadata": {
    "collapsed": true
   },
   "outputs": [],
   "source": [
    "lens = [row for row in bound_data if len(row) != 14]"
   ]
  },
  {
   "cell_type": "markdown",
   "metadata": {},
   "source": [
    "### Plot data"
   ]
  },
  {
   "cell_type": "code",
   "execution_count": 33,
   "metadata": {
    "collapsed": false
   },
   "outputs": [
    {
     "name": "stdout",
     "output_type": "stream",
     "text": [
      "[]\n"
     ]
    }
   ],
   "source": [
    "print lens"
   ]
  },
  {
   "cell_type": "code",
   "execution_count": 34,
   "metadata": {
    "collapsed": true
   },
   "outputs": [],
   "source": [
    "ratios = [row[-2] for row in bound_data]\n",
    "ratios_inverse = [1.0/obs for obs in ratios]"
   ]
  },
  {
   "cell_type": "code",
   "execution_count": 35,
   "metadata": {
    "collapsed": false
   },
   "outputs": [
    {
     "name": "stdout",
     "output_type": "stream",
     "text": [
      "0.888540738393\n",
      "1.12544080062\n"
     ]
    }
   ],
   "source": [
    "print max(ratios_inverse)\n",
    "print min(ratios)"
   ]
  },
  {
   "cell_type": "code",
   "execution_count": 36,
   "metadata": {
    "collapsed": false
   },
   "outputs": [],
   "source": [
    "groups = [0, 1, 2]\n",
    "groups_order = [0, 1, 2]\n",
    "grouped_ratios = [[ratios_inverse[i] for i in range(len(ratios_inverse)) if bound_data[i][-1] == g] for g in groups_order]"
   ]
  },
  {
   "cell_type": "code",
   "execution_count": 37,
   "metadata": {
    "collapsed": false
   },
   "outputs": [
    {
     "name": "stdout",
     "output_type": "stream",
     "text": [
      "[1.978674854082474e-05, 0.2699160434448404, 0.4104542758603699]\n",
      "[0.26991588956631773, 0.4104541873617059, 0.8885407383934321]\n"
     ]
    }
   ],
   "source": [
    "mins = [min(row) for row in grouped_ratios]\n",
    "maxs = [max(row) for row in grouped_ratios]\n",
    "print mins\n",
    "print maxs"
   ]
  },
  {
   "cell_type": "code",
   "execution_count": 38,
   "metadata": {
    "collapsed": true
   },
   "outputs": [],
   "source": [
    "group_means = [round(sum(grouped_ratios[i])/len(grouped_ratios[i]), 4) for i in groups_order]\n",
    "Group_names = ['A', 'B', 'C']\n",
    "colours = ['forestgreen', 'orangered', 'darkcyan']\n",
    "overall_mean = round(sum(ratios_inverse)/len(ratios_inverse), 4)\n",
    "labs = ['Group ' + Group_names[i] + ', mean = ' + str(group_means[i]) for i in range(len(Group_names))]\n",
    "labs_order = [labs[0], labs[1], labs[2]]"
   ]
  },
  {
   "cell_type": "code",
   "execution_count": 69,
   "metadata": {
    "collapsed": false
   },
   "outputs": [
    {
     "name": "stdout",
     "output_type": "stream",
     "text": [
      "[5.761341980809828, 3.0, 10.205481214036906]\n"
     ]
    }
   ],
   "source": [
    "A = [maxs[i] - mins[i] for i in range(3)]\n",
    "B = [3*(obs/min(A)) for obs in A]\n",
    "print B"
   ]
  },
  {
   "cell_type": "code",
   "execution_count": 70,
   "metadata": {
    "collapsed": false
   },
   "outputs": [
    {
     "name": "stdout",
     "output_type": "stream",
     "text": [
      "[[1.978674854082474e-05, 0.04500247055150365, 0.08998515435446647, 0.1349678381574293, 0.17995052196039213, 0.22493320576335493, 0.26991588956631773], [0.2699160434448404, 0.3167620914171289, 0.3636081393894174, 0.4104541873617059], [0.4104542758603699, 0.45826292211367614, 0.5060715683669823, 0.5538802146202886, 0.6016888608735947, 0.649497507126901, 0.6973061533802072, 0.7451147996335135, 0.7929234458868196, 0.8407320921401258, 0.8885407383934321]]\n"
     ]
    }
   ],
   "source": [
    "num_bins = [6, 3, 10]\n",
    "bins = [[mins[g] + i*(maxs[g]-mins[g])/float(num_bins[g]) for i in range(num_bins[g]+1)] for g in groups]\n",
    "print bins"
   ]
  },
  {
   "cell_type": "code",
   "execution_count": 73,
   "metadata": {
    "collapsed": false
   },
   "outputs": [
    {
     "data": {
      "image/png": "[encoded data removed]",
      "text/plain": [
       "<matplotlib.figure.Figure at 0x136f7df50>"
      ]
     },
     "metadata": {},
     "output_type": "display_data"
    }
   ],
   "source": [
    "width = 1.0/20.0\n",
    "fig, ax = plt.subplots()\n",
    "for i in range(3):\n",
    "    plt.hist(grouped_ratios[i], bins=bins[i], alpha=0.6, color=colours[i], label=labs[i])\n",
    "plt.xlabel('Ratios')\n",
    "plt.ylabel('Frequency')\n",
    "plt.legend(labs_order, fontsize=13)\n",
    "ax.set_title('Actual/Bound, mean = ' + str(overall_mean), fontsize=20)\n",
    "plt.vlines(group_means, 0, 1600000, color=[colours[i] for i in groups_order], linestyle=\"dashed\")\n",
    "plt.vlines(overall_mean, 0, 1600000, color='black', linestyle=\"dashed\")\n",
    "plt.show()"
   ]
  },
  {
   "cell_type": "code",
   "execution_count": null,
   "metadata": {
    "collapsed": true
   },
   "outputs": [],
   "source": []
  }
 ],
 "metadata": {
  "kernelspec": {
   "display_name": "Python 2",
   "language": "python",
   "name": "python2"
  },
  "language_info": {
   "codemirror_mode": {
    "name": "ipython",
    "version": 2
   },
   "file_extension": ".py",
   "mimetype": "text/x-python",
   "name": "python",
   "nbconvert_exporter": "python",
   "pygments_lexer": "ipython2",
   "version": "2.7.5"
  }
 },
 "nbformat": 4,
 "nbformat_minor": 0
}
