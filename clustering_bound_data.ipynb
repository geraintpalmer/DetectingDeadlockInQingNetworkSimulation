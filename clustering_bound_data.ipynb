{
 "cells": [
  {
   "cell_type": "code",
   "execution_count": 4,
   "metadata": {
    "collapsed": true
   },
   "outputs": [],
   "source": [
    "%matplotlib inline"
   ]
  },
  {
   "cell_type": "code",
   "execution_count": 5,
   "metadata": {
    "collapsed": false
   },
   "outputs": [],
   "source": [
    "import matplotlib.pyplot as plt\n",
    "import csv\n",
    "from sklearn import cluster\n",
    "import numpy as np\n",
    "import seaborn as sns\n",
    "sns.set(style=\"whitegrid\")"
   ]
  },
  {
   "cell_type": "code",
   "execution_count": 6,
   "metadata": {
    "collapsed": false
   },
   "outputs": [],
   "source": [
    "bound_data = []\n",
    "file_name = 'data_for_graphs/ratio_bound_data.csv'\n",
    "data_file = open(file_name, 'r')\n",
    "rdr = csv.reader(data_file)\n",
    "for row in rdr:\n",
    "    bound_data.append([float(obs) for obs in row])"
   ]
  },
  {
   "cell_type": "code",
   "execution_count": 7,
   "metadata": {
    "collapsed": true
   },
   "outputs": [],
   "source": [
    "ratios = [row[-1] for row in bound_data]\n",
    "ratios_inverse = [1.0/obs for obs in ratios]\n",
    "dataset = [[ratios_inverse[i]] for i in range(len(ratios_inverse))]\n",
    "dataset_np = np.array(dataset)"
   ]
  },
  {
   "cell_type": "code",
   "execution_count": 8,
   "metadata": {
    "collapsed": false
   },
   "outputs": [
    {
     "data": {
      "text/plain": [
       "KMeans(copy_x=True, init='k-means++', max_iter=300, n_clusters=3, n_init=10,\n",
       "    n_jobs=1, precompute_distances='auto', random_state=None, tol=0.0001,\n",
       "    verbose=0)"
      ]
     },
     "execution_count": 8,
     "metadata": {},
     "output_type": "execute_result"
    }
   ],
   "source": [
    "k_means = cluster.KMeans(n_clusters=3)\n",
    "k_means.fit(dataset_np)"
   ]
  },
  {
   "cell_type": "markdown",
   "metadata": {},
   "source": [
    "### Splitting data_set into 3 lists for graphing"
   ]
  },
  {
   "cell_type": "code",
   "execution_count": 9,
   "metadata": {
    "collapsed": false
   },
   "outputs": [
    {
     "name": "stdout",
     "output_type": "stream",
     "text": [
      "[2855978, 3176212, 1167810]\n",
      "7200000\n"
     ]
    }
   ],
   "source": [
    "groups = list(set(k_means.labels_))\n",
    "grouped_bound_data = [[dataset[i] for i in range(len(dataset)) if k_means.labels_[i] == g] for g in groups]\n",
    "print [len(row) for row in grouped_bound_data]\n",
    "print sum([len(row) for row in grouped_bound_data])"
   ]
  },
  {
   "cell_type": "markdown",
   "metadata": {},
   "source": [
    "### Write clustered data to file"
   ]
  },
  {
   "cell_type": "code",
   "execution_count": 10,
   "metadata": {
    "collapsed": false
   },
   "outputs": [
    {
     "data": {
      "text/plain": [
       "[0.1,\n",
       " 0.1,\n",
       " 1.0,\n",
       " 1.0,\n",
       " 0.0,\n",
       " 0.0,\n",
       " 0.2,\n",
       " 0.2,\n",
       " 0.2,\n",
       " 0.2,\n",
       " 80.0,\n",
       " 57.14912280701755,\n",
       " 3.5009596928982725,\n",
       " 1]"
      ]
     },
     "execution_count": 10,
     "metadata": {},
     "output_type": "execute_result"
    }
   ],
   "source": [
    "clustered_bound_data = [bound_data[i] + [k_means.labels_[i]] for i in range(len(bound_data))]\n",
    "clustered_bound_data[0]"
   ]
  },
  {
   "cell_type": "code",
   "execution_count": 21,
   "metadata": {
    "collapsed": false
   },
   "outputs": [],
   "source": [
    "file_name = 'data_for_graphs/clustered_bound_data.csv'\n",
    "data_file = open(file_name, 'w')\n",
    "wrtr = csv.writer(data_file)\n",
    "for row in clustered_bound_data:\n",
    "    wrtr.writerow(row)"
   ]
  },
  {
   "cell_type": "code",
   "execution_count": null,
   "metadata": {
    "collapsed": true
   },
   "outputs": [],
   "source": []
  }
 ],
 "metadata": {
  "kernelspec": {
   "display_name": "Python 2",
   "language": "python",
   "name": "python2"
  },
  "language_info": {
   "codemirror_mode": {
    "name": "ipython",
    "version": 2
   },
   "file_extension": ".py",
   "mimetype": "text/x-python",
   "name": "python",
   "nbconvert_exporter": "python",
   "pygments_lexer": "ipython2",
   "version": "2.7.5"
  }
 },
 "nbformat": 4,
 "nbformat_minor": 0
}
