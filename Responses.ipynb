{
 "cells": [
  {
   "cell_type": "markdown",
   "metadata": {},
   "source": [
    "# Responses to Reviewers"
   ]
  },
  {
   "cell_type": "markdown",
   "metadata": {},
   "source": [
    "## Reviewer 1\n",
    "\n",
    "The paper presents a Markov model for deadlock detection in a small set of queuing network models with finite population with one or tho service centres.\n",
    "A method for deadlock detection is presented based on a type of wait-for graphs namely state digraph, where the deadlock is associated to the search for specific component called knot. The conditions for deadlock detection are discussed and simplified for the special case of one-node or two-node queuing network with population restrictions. \n",
    "\n",
    "The methods are applied through simulation and, under exponential assumption for the arrival and service process, by defining some simple continuous-time Markov chains to derive the expected time until deadlock as the average absorption time to a specific state."
   ]
  },
  {
   "cell_type": "markdown",
   "metadata": {},
   "source": [
    "+ The Markov model presentation is quite repetitive and it could be simplified since the models are simple and the results can be easily related. I suggest the author to reduce Section 3 to avoid useless repetition of the models details and the observations on the model behaviour. The model definition and analysis is quite standard technique and there is no particular original contribution in this part of the work.\n",
    "\n",
    "   + *Single server networks have been removed as they are special cases of the multi server networks.*"
   ]
  },
  {
   "cell_type": "markdown",
   "metadata": {},
   "source": [
    "+ The bound definition could be interesting, however this section of the work is quite confused. It is not clear how to apply the bounds.\n",
    "   + *This section has been expanded and tidied up. A Table of values showing how the bound performs is included. A note in the conclusions is added suggesting that further work could build on the ideas presented here to derive a bound for networks that have not yet been modelled analytically.*"
   ]
  },
  {
   "cell_type": "markdown",
   "metadata": {},
   "source": [
    "+ It seems that the bound is defined just for one of the considered models, but it is not clear its applicability and accuracy\n",
    "   + *The bound is only for the considered models. However a note in the conclusions is added suggesting that further work could build on the ideas presented here to derive a bound for networks that have not yet been modelled analytically. Accuracy and tightness of the bound is analysed in this section.*"
   ]
  },
  {
   "cell_type": "markdown",
   "metadata": {},
   "source": [
    "+ the figures are not readable for the state transition diagrams (Fig. 9, 12, 15, 18)\n",
    "   + *Diagrams tidied up. No overlapping labels. Figures made larger.*"
   ]
  },
  {
   "cell_type": "markdown",
   "metadata": {},
   "source": [
    "+  the graphs of the expected time to deadlock cannot be read (Fig. 7, 10, 13, 16, 17, 23)"
   ]
  },
  {
   "cell_type": "markdown",
   "metadata": {},
   "source": [
    "+ the presentation of the bound definition of the models (p. 24) can be simplified.\n",
    "   + *This section has been expanded and tidied up.*"
   ]
  },
  {
   "cell_type": "markdown",
   "metadata": {},
   "source": [
    "## Reviewer 2\n",
    "\n",
    "This research studies how to detect the deadlock phenomenon in an open restricted queuing network. In this study, the author(s) solve(s) the deadlock problem to a limited case by making an important assumption. They compare the outcome of the simulation model with the outcome that analyses the expected time to deadlock in five network cases by using the Markov chain model. As a result, this study obtains a bound on the expected time to deadlock.\n",
    "\n",
    "This study makes a significant contribution regarding the deadlock phenomenon in open restricted queuing networks by using the Markov chain model, because this model can be applied to certain cases in practice, and the researcher must solve this problem."
   ]
  },
  {
   "cell_type": "markdown",
   "metadata": {},
   "source": [
    "+ There is no doubt that deadlock is a bad phenomenon in queuing networks. However, it is difficult to understand the importance of deadlock detection by applied researcher. Therefore, the author(s) should explain the importance of deadlock detection by using a concrete example. The author(s) should identify problems that occur because of deadlock in practice.\n",
    "\n",
    "   + *A motivating example is now given, highlighting the discrepencies between queueing models under circular type 2 blocking and reality*"
   ]
  },
  {
   "cell_type": "markdown",
   "metadata": {},
   "source": [
    "+ To ensure the paper is reader friendly, the author(s) should indicate which operational problems can be solved by using this study’s result.\n",
    "   + *A motivating example is now given, highlighting the discrepencies between queueing models under circular type 2 blocking and reality. This emphasises the potential application of the work in developing simulation and analytical models that may exhibit deadlock despite the system itself not.*"
   ]
  },
  {
   "cell_type": "markdown",
   "metadata": {},
   "source": [
    "+ Why does this study consider only Type 1 deadlock? The author(s) must indicate why this study does not consider deadlocks of Types 2 and 3.\n",
    "   + *Although this paper does only consider blocking of Type I, consideration of Types II and III blocking are now noted as future research directions. Note that blocking of type III with random destinations (RS-RD) cannot reach deadlock, although could be considered a method of deadlock prevention.*"
   ]
  },
  {
   "cell_type": "markdown",
   "metadata": {},
   "source": [
    "+ The author(s) should justify some assumptions. For example, why does this study pay attention to no pre-emption?"
   ]
  },
  {
   "cell_type": "markdown",
   "metadata": {},
   "source": [
    "+ This paper has some references missing. For example, in [14], the journal name is mentioned as “Operations Research.” However, in [17] and [30], the journal name is mentioned as “Operations research”. The author(s) should check the format of the references."
   ]
  },
  {
   "cell_type": "markdown",
   "metadata": {},
   "source": [
    "## Reviewer 5\n",
    "\n",
    "My view is that the paper concerns a problem of interest and that it makes some good contributions to furthering our understanding of blocking/deadlock. Nonetheless, (i) I believe that the paper could be much improved presentationally, and (ii) I am yet to be convinced that the weight of contribution is sufficient for publication in EJOR. On the latter point, please either convince me of the importance of the material in Sections 3 and 4 (along with the novelty of Section 2) or develop the material to the point where it does.\n",
    "\n",
    "GENERAL: The paper discusses the concept of blocking (ie, further movement is not possible) and deadlock in open (arrivals and departures from outside the network are possible), restricted (at least one server has limited waiting space) queueing networks. A theoretical result is given which uses a digraph construction to determine when deadlock has been reached in such a network. Ideas are illustrated by some small scale examples. Finally, a result is given which describes how the expected time to deadlock for a particular small network may be bounded above by the equivalent time for constituent sub-networks."
   ]
  },
  {
   "cell_type": "markdown",
   "metadata": {},
   "source": [
    "+ Many of the terms used in the paper are not defined/explained with the clarity I would wish;"
   ]
  },
  {
   "cell_type": "markdown",
   "metadata": {},
   "source": [
    "+ The case is not really made for the importance of blocking/deadlock in practice for the\n",
    "systems discussed. I have seen real-world instances and am personally convinced of the importance of these phenomena, but the paper has to make the case. In my view, the paper is crying out for a motivating real-world example;\n",
    "\n",
    "   + *A motivating example is now given, highlighting the discrepencies between queueing models under circular type 2 blocking and reality*"
   ]
  },
  {
   "cell_type": "markdown",
   "metadata": {},
   "source": [
    "+ It is not made clear just how much of an advance the central result of Section 2 (Theorem 1) is on previous work. Is the construction in Definition 2 new, for example?"
   ]
  },
  {
   "cell_type": "markdown",
   "metadata": {},
   "source": [
    "+ I struggle to see the importance of much of the material in Sections 3 and 4. I would have thought that after the general discussion preceding Section 3.1 a single illustrative example would suffice. Further, while the bounding result in Section 4 seems correct, what is its significance and where does it leave us? Is it meant to point to a general approach to bounding expected times to deadlock in more complex systems? If this is the intention, the case does not seem to have been made. The bound proposed does not appear particularly tight. But more than that, no case is made regarding why and when such a bound would be of value.\n",
    "   + *A note in the conclusions is added suggesting that further work could build on the ideas presented here to derive a bound for networks that have not yet been modelled analytically. Accuracy and tightness of the bound is analysed in this section.*"
   ]
  },
  {
   "cell_type": "markdown",
   "metadata": {},
   "source": [
    "+ Abstract. It is not good to have a number of unfamiliar yet undefined terms (eg, restricted\n",
    "queueing network, recursive upstream blocking, deadlock etc) in an abstract. Further, the\n",
    "upper bound is on the expected time to deadlock. The time to deadlock is a random variable;"
   ]
  },
  {
   "cell_type": "markdown",
   "metadata": {},
   "source": [
    "+ Introduction: I found this very long and quite unclear in parts. While it collects together some interesting material, I feel it lacks clarity and direction. I strongly suggest that you\n",
    "begin with a clear and precise description of the phenomena of blocking/deadlock in the systems of interest to you. Explain why they matter. Then describe succinctly the contribution of the paper. Proceed to a review of the literature (or perhaps this could be a separate section?) and end with a summary of the contents of the paper;"
   ]
  },
  {
   "cell_type": "markdown",
   "metadata": {},
   "source": [
    "+ We really need to understand what blocking is and why you are taking the view of it you are. For example, in the one node single-server model of Section 3.1, why does the proposed ‘-1’ state mean deadlock for the system? In your deadlock state, why cannot the served customer to be rerouted to the queue when the waiting space is full take up the very space she vacates when she leaves service? Presumably your notion of blocking forbids this, but please explain clearly what your notions of blocking are and why they are natural/important for applications;"
   ]
  },
  {
   "cell_type": "markdown",
   "metadata": {},
   "source": [
    "+ It would be great to include in the Introduction a motivating real-world example related to an open restricted queueing network;\n",
    "   + *A motivating example is now given, highlighting the discrepencies between queueing models under circular type 2 blocking and reality*"
   ]
  },
  {
   "cell_type": "markdown",
   "metadata": {},
   "source": [
    "+ There are several instances in the paper of using a term and only defining it later. For example, the terms ‘open’ and ‘restricted’ at the foot of p.1;"
   ]
  },
  {
   "cell_type": "markdown",
   "metadata": {},
   "source": [
    "+ Definition 1 is far from clear to me. What is ‘recursive upstream blocking’? Is the cessation of service referred to in the definition understood to be permanent? The term ‘deadlock’ would rather imply so. Please clarify. Your reference on p.4 to different types of deadlock suggests to me that further clarification around this definition would be very helpful."
   ]
  },
  {
   "cell_type": "markdown",
   "metadata": {},
   "source": [
    "+ On p.3 l.4 up, what is 𝐵𝑗?\n",
    "   + *This has been clarified in the text.*"
   ]
  },
  {
   "cell_type": "markdown",
   "metadata": {},
   "source": [
    "+ The discussion around Figure 2 is far from clear;\n",
    "   + *The discussion on this figure has been rewritten and hopefully this clarifies.*"
   ]
  },
  {
   "cell_type": "markdown",
   "metadata": {},
   "source": [
    "+ Much of the graph-theoretic terminology used in Section 2 (including ‘weakly’ and ‘strongly’\n",
    "connected components) will be unfamiliar to many readers. What is a ‘wait-for’ graph?\n",
    "These and some other key terms need to be defined/explained;\n"
   ]
  },
  {
   "cell_type": "markdown",
   "metadata": {},
   "source": [
    "+ The contribution of Section 2 needs to be more clearly set in the context of the foregoing\n",
    "literature. The suggestion on p.4 is that rather similar approaches (using ‘wait-for graphs’) have been used previously to analyse other systems. Please identify more clearly what is the novel contribution here;"
   ]
  },
  {
   "cell_type": "markdown",
   "metadata": {},
   "source": [
    "+ On p.8 you say that the simulation model described is there to verify the results of Section 3. In fact, the latter concern the mean time to deadlock while the simulation results you report give a much richer description of the distributions of the time to deadlock (based on order statistics, it appears-thus possibly not explicitly including the mean);\n",
    "   + *This is clarified in the text.*"
   ]
  },
  {
   "cell_type": "markdown",
   "metadata": {},
   "source": [
    "+ In your description on p.9 of the Markov chain modelling, you begin by discussing transition rates but later down the page appear to convert to transition probabilities (‘the canonical form of an absorbing Markov Chain’). Since transition rates are the key model descriptors you use throughout, I suggest you stick to those;"
   ]
  },
  {
   "cell_type": "markdown",
   "metadata": {},
   "source": [
    "+ P.12 I believe you need to apply the function 𝜔1 to both sides of the inequalities in l.3 of Remark 2;\n",
    "   + *This has been addressed.*"
   ]
  },
  {
   "cell_type": "markdown",
   "metadata": {},
   "source": [
    "+ P.12, l.3 up Here (and elsewhere) the superscript of N (the natural numbers) is used incorrectly;\n",
    "   + $\\mathbb{N}^{(n_1+2\\times n_2+2)}$ to $\\mathbb{N}^{(n_1+2)\\times (n_2+2)}$"
   ]
  },
  {
   "cell_type": "markdown",
   "metadata": {},
   "source": [
    "CONCLUSION I do not believe that the case for either the importance of blocking/deadlock as phenomena in these queueing networks or for the contribution to their study contained in the paper has yet been made. I anticipate that the case for the novelty of the work in Section 2 can in fact be easily made. However, the material in Sections 3 and 4 does not yet look to me to be of sufficient weight, novelty or significance to merit publication in EJOR as it currently stands. That said, I am open to the authors convincing me otherwise or to producing further material (concerning more general networks, for example) which would give the paper the greater scope it appears to need."
   ]
  }
 ],
 "metadata": {
  "kernelspec": {
   "display_name": "Python 3",
   "language": "python",
   "name": "python3"
  },
  "language_info": {
   "codemirror_mode": {
    "name": "ipython",
    "version": 3
   },
   "file_extension": ".py",
   "mimetype": "text/x-python",
   "name": "python",
   "nbconvert_exporter": "python",
   "pygments_lexer": "ipython3",
   "version": "3.5.1"
  }
 },
 "nbformat": 4,
 "nbformat_minor": 0
}
