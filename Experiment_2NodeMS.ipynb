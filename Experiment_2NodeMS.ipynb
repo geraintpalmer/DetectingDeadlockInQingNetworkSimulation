{
 "cells": [
  {
   "cell_type": "code",
   "execution_count": 1,
   "metadata": {
    "collapsed": true
   },
   "outputs": [],
   "source": [
    "import ciw\n",
    "import csv\n",
    "import tqdm"
   ]
  },
  {
   "cell_type": "code",
   "execution_count": 2,
   "metadata": {
    "collapsed": true
   },
   "outputs": [],
   "source": [
    "assert ciw.__version__ == '1.0.0'\n",
    "assert tqdm.__version__ == '4.11.2'"
   ]
  },
  {
   "cell_type": "markdown",
   "metadata": {},
   "source": [
    "### 2 Node Single Server"
   ]
  },
  {
   "cell_type": "code",
   "execution_count": 3,
   "metadata": {
    "collapsed": true
   },
   "outputs": [],
   "source": [
    "params = {\n",
    "    'Arrival_distributions': [['Exponential', 9.0], ['Exponential', 7.5]],\n",
    "    'Service_distributions': [['Exponential', 5.5], ['Exponential', 6.5]],\n",
    "    'Transition_matrices': [[0.0, 0.7], [0.6, 0.0]],\n",
    "    'Number_of_servers': [2, 2],\n",
    "    'Queue_capacities': [2, 1]\n",
    "}"
   ]
  },
  {
   "cell_type": "code",
   "execution_count": 4,
   "metadata": {
    "collapsed": true
   },
   "outputs": [],
   "source": [
    "L1s = [4.0, 5.0, 6.0, 7.0, 8.0, 9.0, 10.0, 11.0, 12.0, 13.0, 14.0, 15.0, 16.0]\n",
    "mu1s = [1.0, 1.5, 2.0, 2.5, 3.0, 3.5, 4.0, 4.5, 5.0, 5.5, 6.0, 6.5, 7.0, 7.5, 8.0]\n",
    "r12s = [0.1, 0.2, 0.3, 0.4, 0.5, 0.6, 0.7, 0.8, 0.9, 1.0]\n",
    "n1s = [0, 1, 2, 3, 4, 5, 6]\n",
    "c1s = [1, 2, 3, 4, 5]"
   ]
  },
  {
   "cell_type": "code",
   "execution_count": 6,
   "metadata": {},
   "outputs": [
    {
     "data": {
      "application/vnd.jupyter.widget-view+json": {
       "model_id": "fa41b0f3a680421dbbab9d05a8d37195"
      }
     },
     "metadata": {},
     "output_type": "display_data"
    },
    {
     "data": {
      "application/vnd.jupyter.widget-view+json": {
       "model_id": "4ce31b1fb9bc4629bf190601c43c1fa2"
      }
     },
     "metadata": {},
     "output_type": "display_data"
    },
    {
     "data": {
      "application/vnd.jupyter.widget-view+json": {
       "model_id": "6826254999b943898b489667a4403bcd"
      }
     },
     "metadata": {},
     "output_type": "display_data"
    },
    {
     "data": {
      "application/vnd.jupyter.widget-view+json": {
       "model_id": "cedc415771ef46e6907640fc6ca09225"
      }
     },
     "metadata": {},
     "output_type": "display_data"
    },
    {
     "data": {
      "application/vnd.jupyter.widget-view+json": {
       "model_id": "af18ec35a01b4dfebf851e49a2e482e2"
      }
     },
     "metadata": {},
     "output_type": "display_data"
    },
    {
     "data": {
      "application/vnd.jupyter.widget-view+json": {
       "model_id": "09916033a1654deab471fb8be042ad7a"
      }
     },
     "metadata": {},
     "output_type": "display_data"
    },
    {
     "data": {
      "application/vnd.jupyter.widget-view+json": {
       "model_id": "0e62e0ccbe7e4bcd9751b7cddf23698e"
      }
     },
     "metadata": {},
     "output_type": "display_data"
    },
    {
     "data": {
      "application/vnd.jupyter.widget-view+json": {
       "model_id": "899716ca3453453caa1c625ef24d6360"
      }
     },
     "metadata": {},
     "output_type": "display_data"
    },
    {
     "data": {
      "application/vnd.jupyter.widget-view+json": {
       "model_id": "0e2d02c05e5842d88590468dc0ad0479"
      }
     },
     "metadata": {},
     "output_type": "display_data"
    },
    {
     "data": {
      "application/vnd.jupyter.widget-view+json": {
       "model_id": "3e3828dccc224f89882a6f0e33cae096"
      }
     },
     "metadata": {},
     "output_type": "display_data"
    },
    {
     "data": {
      "application/vnd.jupyter.widget-view+json": {
       "model_id": "0801a80e5dd940e2904fa66fc68fff68"
      }
     },
     "metadata": {},
     "output_type": "display_data"
    },
    {
     "data": {
      "application/vnd.jupyter.widget-view+json": {
       "model_id": "022c3900f8254a8184a7125068727cda"
      }
     },
     "metadata": {},
     "output_type": "display_data"
    },
    {
     "data": {
      "application/vnd.jupyter.widget-view+json": {
       "model_id": "f60a3ce0535041ddaba2a479c00d89ca"
      }
     },
     "metadata": {},
     "output_type": "display_data"
    },
    {
     "data": {
      "application/vnd.jupyter.widget-view+json": {
       "model_id": "cadcd25ce9ba4225987cdfc5066a82a1"
      }
     },
     "metadata": {},
     "output_type": "display_data"
    },
    {
     "name": "stdout",
     "output_type": "stream",
     "text": [
      "\n"
     ]
    }
   ],
   "source": [
    "overall_times_to_deadlock_L = {}\n",
    "for L in tqdm.tqdm_notebook(L1s):\n",
    "    N = ciw.create_network(**params)\n",
    "    N.customer_classes[0].arrival_distributions[0][1] = L\n",
    "    overall_times_to_deadlock_L[L] = []\n",
    "    for repetition in tqdm.tqdm_notebook(range(10000)):\n",
    "        ciw.seed(repetition)\n",
    "        Q = ciw.Simulation(N, deadlock_detector='StateDigraph')\n",
    "        Q.simulate_until_deadlock()\n",
    "        overall_times_to_deadlock_L[L].append(Q.times_to_deadlock[((0, 0),  (0, 0))])"
   ]
  },
  {
   "cell_type": "code",
   "execution_count": 7,
   "metadata": {
    "collapsed": true
   },
   "outputs": [],
   "source": [
    "to_csv = []\n",
    "for L in overall_times_to_deadlock_L:\n",
    "    row = [L] + overall_times_to_deadlock_L[L]\n",
    "    to_csv.append(row)\n",
    "\n",
    "\n",
    "with open('data_for_paper/2NodeMS/deadlocking_times_L.csv', 'w') as csvfile:\n",
    "    csvwriter = csv.writer(csvfile)\n",
    "    for row in to_csv:\n",
    "        csvwriter.writerow(row)"
   ]
  },
  {
   "cell_type": "code",
   "execution_count": 8,
   "metadata": {},
   "outputs": [
    {
     "data": {
      "application/vnd.jupyter.widget-view+json": {
       "model_id": "bc480e14ab744e6a87cde3cbd7490d97"
      }
     },
     "metadata": {},
     "output_type": "display_data"
    },
    {
     "data": {
      "application/vnd.jupyter.widget-view+json": {
       "model_id": "fd3db93ebab24f31b6df8deb7876d9f5"
      }
     },
     "metadata": {},
     "output_type": "display_data"
    },
    {
     "data": {
      "application/vnd.jupyter.widget-view+json": {
       "model_id": "d8b4f46fd94547dc844d93b6a9fcc296"
      }
     },
     "metadata": {},
     "output_type": "display_data"
    },
    {
     "data": {
      "application/vnd.jupyter.widget-view+json": {
       "model_id": "843e9ce06c734330a8d485564fec7f00"
      }
     },
     "metadata": {},
     "output_type": "display_data"
    },
    {
     "data": {
      "application/vnd.jupyter.widget-view+json": {
       "model_id": "55e66cdd7b594e33a8cb097aab3175d3"
      }
     },
     "metadata": {},
     "output_type": "display_data"
    },
    {
     "data": {
      "application/vnd.jupyter.widget-view+json": {
       "model_id": "1d83340c9fb64d6db7906eb3aeb00a32"
      }
     },
     "metadata": {},
     "output_type": "display_data"
    },
    {
     "data": {
      "application/vnd.jupyter.widget-view+json": {
       "model_id": "335a82d1dcd34cf5bbb3f598544d36ed"
      }
     },
     "metadata": {},
     "output_type": "display_data"
    },
    {
     "data": {
      "application/vnd.jupyter.widget-view+json": {
       "model_id": "7a5ef8ceea7e4edd848000ce9233f2a6"
      }
     },
     "metadata": {},
     "output_type": "display_data"
    },
    {
     "data": {
      "application/vnd.jupyter.widget-view+json": {
       "model_id": "ee7b41eb7ee54e62b3b9131962f75e16"
      }
     },
     "metadata": {},
     "output_type": "display_data"
    },
    {
     "data": {
      "application/vnd.jupyter.widget-view+json": {
       "model_id": "be50d9abf9c74404932a9ff0d36f3a96"
      }
     },
     "metadata": {},
     "output_type": "display_data"
    },
    {
     "data": {
      "application/vnd.jupyter.widget-view+json": {
       "model_id": "3e9970cdac4b4745a4bf4a2f2a1e4e9c"
      }
     },
     "metadata": {},
     "output_type": "display_data"
    },
    {
     "data": {
      "application/vnd.jupyter.widget-view+json": {
       "model_id": "54a6ad4a7ec94a629a18b5faae02424d"
      }
     },
     "metadata": {},
     "output_type": "display_data"
    },
    {
     "data": {
      "application/vnd.jupyter.widget-view+json": {
       "model_id": "ae64d274e95c48d58c5d5ea4aaa63674"
      }
     },
     "metadata": {},
     "output_type": "display_data"
    },
    {
     "data": {
      "application/vnd.jupyter.widget-view+json": {
       "model_id": "c1aee252c95c464881c54af1760cbe1b"
      }
     },
     "metadata": {},
     "output_type": "display_data"
    },
    {
     "data": {
      "application/vnd.jupyter.widget-view+json": {
       "model_id": "479baf974d9a4c418632e78e9cba78da"
      }
     },
     "metadata": {},
     "output_type": "display_data"
    },
    {
     "data": {
      "application/vnd.jupyter.widget-view+json": {
       "model_id": "5cdbd416029843c89a4797bd5efcd007"
      }
     },
     "metadata": {},
     "output_type": "display_data"
    },
    {
     "name": "stdout",
     "output_type": "stream",
     "text": [
      "\n"
     ]
    }
   ],
   "source": [
    "overall_times_to_deadlock_mu = {}\n",
    "for mu in tqdm.tqdm_notebook(mu1s):\n",
    "    N = ciw.create_network(**params)\n",
    "    N.customer_classes[0].service_distributions[0][1] = mu\n",
    "    overall_times_to_deadlock_mu[mu] = []\n",
    "    for repetition in tqdm.tqdm_notebook(range(10000)):\n",
    "        ciw.seed(repetition)\n",
    "        Q = ciw.Simulation(N, deadlock_detector='StateDigraph')\n",
    "        Q.simulate_until_deadlock()\n",
    "        overall_times_to_deadlock_mu[mu].append(Q.times_to_deadlock[((0, 0),  (0, 0))])"
   ]
  },
  {
   "cell_type": "code",
   "execution_count": 9,
   "metadata": {
    "collapsed": true
   },
   "outputs": [],
   "source": [
    "to_csv = []\n",
    "for mu in overall_times_to_deadlock_mu:\n",
    "    row = [mu] + overall_times_to_deadlock_mu[mu]\n",
    "    to_csv.append(row)\n",
    "\n",
    "\n",
    "with open('data_for_paper/2NodeMS/deadlocking_times_mu.csv', 'w') as csvfile:\n",
    "    csvwriter = csv.writer(csvfile)\n",
    "    for row in to_csv:\n",
    "        csvwriter.writerow(row)"
   ]
  },
  {
   "cell_type": "code",
   "execution_count": 10,
   "metadata": {},
   "outputs": [
    {
     "data": {
      "application/vnd.jupyter.widget-view+json": {
       "model_id": "0fd55ef2c2db4d07b48c4b0df820775c"
      }
     },
     "metadata": {},
     "output_type": "display_data"
    },
    {
     "data": {
      "application/vnd.jupyter.widget-view+json": {
       "model_id": "90eddc9be6f042e8b90f75341e5860de"
      }
     },
     "metadata": {},
     "output_type": "display_data"
    },
    {
     "data": {
      "application/vnd.jupyter.widget-view+json": {
       "model_id": "0c4a600a3486458ca49ef1528c123d8d"
      }
     },
     "metadata": {},
     "output_type": "display_data"
    },
    {
     "data": {
      "application/vnd.jupyter.widget-view+json": {
       "model_id": "ca76faa3dcf34ec49e8d08f39de45cd9"
      }
     },
     "metadata": {},
     "output_type": "display_data"
    },
    {
     "data": {
      "application/vnd.jupyter.widget-view+json": {
       "model_id": "6bc243649c2d45a28b447f35818125c9"
      }
     },
     "metadata": {},
     "output_type": "display_data"
    },
    {
     "data": {
      "application/vnd.jupyter.widget-view+json": {
       "model_id": "d8749840bf7f49fc9ac2c68e24354126"
      }
     },
     "metadata": {},
     "output_type": "display_data"
    },
    {
     "data": {
      "application/vnd.jupyter.widget-view+json": {
       "model_id": "c4368fa011c2460abb0db48c8b0620f0"
      }
     },
     "metadata": {},
     "output_type": "display_data"
    },
    {
     "data": {
      "application/vnd.jupyter.widget-view+json": {
       "model_id": "1d8062e2c8524b56b83581b95db86121"
      }
     },
     "metadata": {},
     "output_type": "display_data"
    },
    {
     "data": {
      "application/vnd.jupyter.widget-view+json": {
       "model_id": "45ead6c54b614cc0a9a5b8791cba4a9a"
      }
     },
     "metadata": {},
     "output_type": "display_data"
    },
    {
     "data": {
      "application/vnd.jupyter.widget-view+json": {
       "model_id": "50c0e1b70b8b4e4fa099be79184bf9de"
      }
     },
     "metadata": {},
     "output_type": "display_data"
    },
    {
     "data": {
      "application/vnd.jupyter.widget-view+json": {
       "model_id": "b3a1df5a75ee4f578e5891f6270297f0"
      }
     },
     "metadata": {},
     "output_type": "display_data"
    },
    {
     "name": "stdout",
     "output_type": "stream",
     "text": [
      "\n"
     ]
    }
   ],
   "source": [
    "overall_times_to_deadlock_r12 = {}\n",
    "for r12 in tqdm.tqdm_notebook(r12s):\n",
    "    N = ciw.create_network(**params)\n",
    "    N.customer_classes[0].transition_matrix[0][0] = r12\n",
    "    overall_times_to_deadlock_r12[r12] = []\n",
    "    for repetition in tqdm.tqdm_notebook(range(10000)):\n",
    "        ciw.seed(repetition)\n",
    "        Q = ciw.Simulation(N, deadlock_detector='StateDigraph')\n",
    "        Q.simulate_until_deadlock()\n",
    "        overall_times_to_deadlock_r12[r12].append(Q.times_to_deadlock[((0, 0),  (0, 0))])"
   ]
  },
  {
   "cell_type": "code",
   "execution_count": 12,
   "metadata": {},
   "outputs": [],
   "source": [
    "to_csv = []\n",
    "for r12 in overall_times_to_deadlock_r12:\n",
    "    row = [r12] + overall_times_to_deadlock_r12[r12]\n",
    "    to_csv.append(row)\n",
    "\n",
    "\n",
    "with open('data_for_paper/2NodeMS/deadlocking_times_r11.csv', 'w') as csvfile:\n",
    "    csvwriter = csv.writer(csvfile)\n",
    "    for row in to_csv:\n",
    "        csvwriter.writerow(row)"
   ]
  },
  {
   "cell_type": "code",
   "execution_count": 13,
   "metadata": {},
   "outputs": [
    {
     "data": {
      "application/vnd.jupyter.widget-view+json": {
       "model_id": "b69ccaee2ec348b8bc1469a2549755e4"
      }
     },
     "metadata": {},
     "output_type": "display_data"
    },
    {
     "data": {
      "application/vnd.jupyter.widget-view+json": {
       "model_id": "0e57bd3d7e8b4cc9b63cae33596f6ca0"
      }
     },
     "metadata": {},
     "output_type": "display_data"
    },
    {
     "data": {
      "application/vnd.jupyter.widget-view+json": {
       "model_id": "cc6c9398405c439d8d284f128ef2a07d"
      }
     },
     "metadata": {},
     "output_type": "display_data"
    },
    {
     "data": {
      "application/vnd.jupyter.widget-view+json": {
       "model_id": "60cd681a19294767b6e2d01cc08f151e"
      }
     },
     "metadata": {},
     "output_type": "display_data"
    },
    {
     "data": {
      "application/vnd.jupyter.widget-view+json": {
       "model_id": "5a858235954945f3aa2417ee65bde64c"
      }
     },
     "metadata": {},
     "output_type": "display_data"
    },
    {
     "data": {
      "application/vnd.jupyter.widget-view+json": {
       "model_id": "0c30fc0d0ce64598b21c5e9eec50d125"
      }
     },
     "metadata": {},
     "output_type": "display_data"
    },
    {
     "data": {
      "application/vnd.jupyter.widget-view+json": {
       "model_id": "2d17fd21b6634c979222e5ec85e0cfd1"
      }
     },
     "metadata": {},
     "output_type": "display_data"
    },
    {
     "data": {
      "application/vnd.jupyter.widget-view+json": {
       "model_id": "149f577907a14514885295ddcb271260"
      }
     },
     "metadata": {},
     "output_type": "display_data"
    },
    {
     "name": "stdout",
     "output_type": "stream",
     "text": [
      "\n"
     ]
    }
   ],
   "source": [
    "overall_times_to_deadlock_n = {}\n",
    "for n in tqdm.tqdm_notebook(n1s):\n",
    "    N = ciw.create_network(**params)\n",
    "    N.service_centres[0].queueing_capacity = n\n",
    "    overall_times_to_deadlock_n[n] = []\n",
    "    for repetition in tqdm.tqdm_notebook(range(10000)):\n",
    "        ciw.seed(repetition)\n",
    "        Q = ciw.Simulation(N, deadlock_detector='StateDigraph')\n",
    "        Q.simulate_until_deadlock()\n",
    "        overall_times_to_deadlock_n[n].append(Q.times_to_deadlock[((0, 0),  (0, 0))])"
   ]
  },
  {
   "cell_type": "code",
   "execution_count": 14,
   "metadata": {
    "collapsed": true
   },
   "outputs": [],
   "source": [
    "to_csv = []\n",
    "for n in overall_times_to_deadlock_n:\n",
    "    row = [n] + overall_times_to_deadlock_n[n]\n",
    "    to_csv.append(row)\n",
    "\n",
    "\n",
    "with open('data_for_paper/2NodeMS/deadlocking_times_n.csv', 'w') as csvfile:\n",
    "    csvwriter = csv.writer(csvfile)\n",
    "    for row in to_csv:\n",
    "        csvwriter.writerow(row)"
   ]
  },
  {
   "cell_type": "code",
   "execution_count": 15,
   "metadata": {},
   "outputs": [
    {
     "data": {
      "application/vnd.jupyter.widget-view+json": {
       "model_id": "6e0851a9b97e4b60bc59c53b2e5e3261"
      }
     },
     "metadata": {},
     "output_type": "display_data"
    },
    {
     "data": {
      "application/vnd.jupyter.widget-view+json": {
       "model_id": "d81d9b4df75b4767bbb3f779ce09136b"
      }
     },
     "metadata": {},
     "output_type": "display_data"
    },
    {
     "data": {
      "application/vnd.jupyter.widget-view+json": {
       "model_id": "ca0765834a734ec3b04514798b82f157"
      }
     },
     "metadata": {},
     "output_type": "display_data"
    },
    {
     "data": {
      "application/vnd.jupyter.widget-view+json": {
       "model_id": "dd656315c52549948acd43371814e346"
      }
     },
     "metadata": {},
     "output_type": "display_data"
    },
    {
     "data": {
      "application/vnd.jupyter.widget-view+json": {
       "model_id": "07427cc7046a4ca2911800c517380463"
      }
     },
     "metadata": {},
     "output_type": "display_data"
    },
    {
     "data": {
      "application/vnd.jupyter.widget-view+json": {
       "model_id": "12424ff989df4c9d8b17b65310b549db"
      }
     },
     "metadata": {},
     "output_type": "display_data"
    },
    {
     "name": "stdout",
     "output_type": "stream",
     "text": [
      "\n"
     ]
    }
   ],
   "source": [
    "overall_times_to_deadlock_c = {}\n",
    "for c in tqdm.tqdm_notebook(c1s):\n",
    "    N = ciw.create_network(**params)\n",
    "    N.service_centres[0].number_of_servers = c\n",
    "    overall_times_to_deadlock_c[c] = []\n",
    "    for repetition in tqdm.tqdm_notebook(range(10000)):\n",
    "        ciw.seed(repetition)\n",
    "        Q = ciw.Simulation(N, deadlock_detector='StateDigraph')\n",
    "        Q.simulate_until_deadlock()\n",
    "        overall_times_to_deadlock_c[c].append(Q.times_to_deadlock[((0, 0),  (0, 0))])"
   ]
  },
  {
   "cell_type": "code",
   "execution_count": 16,
   "metadata": {
    "collapsed": true
   },
   "outputs": [],
   "source": [
    "to_csv = []\n",
    "for c in overall_times_to_deadlock_c:\n",
    "    row = [c] + overall_times_to_deadlock_c[c]\n",
    "    to_csv.append(row)\n",
    "\n",
    "\n",
    "with open('data_for_paper/2NodeMS/deadlocking_times_c.csv', 'w') as csvfile:\n",
    "    csvwriter = csv.writer(csvfile)\n",
    "    for row in to_csv:\n",
    "        csvwriter.writerow(row)"
   ]
  },
  {
   "cell_type": "code",
   "execution_count": null,
   "metadata": {
    "collapsed": true
   },
   "outputs": [],
   "source": []
  },
  {
   "cell_type": "code",
   "execution_count": null,
   "metadata": {
    "collapsed": true
   },
   "outputs": [],
   "source": []
  }
 ],
 "metadata": {
  "kernelspec": {
   "display_name": "Python 3",
   "language": "python",
   "name": "python3"
  },
  "language_info": {
   "codemirror_mode": {
    "name": "ipython",
    "version": 3
   },
   "file_extension": ".py",
   "mimetype": "text/x-python",
   "name": "python",
   "nbconvert_exporter": "python",
   "pygments_lexer": "ipython3",
   "version": "3.5.1"
  }
 },
 "nbformat": 4,
 "nbformat_minor": 1
}
