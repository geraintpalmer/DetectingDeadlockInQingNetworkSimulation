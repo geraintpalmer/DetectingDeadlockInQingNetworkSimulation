{
 "cells": [
  {
   "cell_type": "code",
   "execution_count": 1,
   "metadata": {
    "collapsed": true
   },
   "outputs": [],
   "source": [
    "import ciw\n",
    "import csv\n",
    "import tqdm"
   ]
  },
  {
   "cell_type": "code",
   "execution_count": 2,
   "metadata": {
    "collapsed": true
   },
   "outputs": [],
   "source": [
    "assert ciw.__version__ == '1.0.0'\n",
    "assert tqdm.__version__ == '4.11.2'"
   ]
  },
  {
   "cell_type": "markdown",
   "metadata": {},
   "source": [
    "### 1 Node Single Server"
   ]
  },
  {
   "cell_type": "code",
   "execution_count": 3,
   "metadata": {
    "collapsed": true
   },
   "outputs": [],
   "source": [
    "params = {\n",
    "    'Arrival_distributions': [['Exponential', 6.0]],\n",
    "    'Service_distributions': [['Exponential', 2.0]],\n",
    "    'Transition_matrices': [[0.5]],\n",
    "    'Number_of_servers': [2],\n",
    "    'Queue_capacities': [3]\n",
    "}"
   ]
  },
  {
   "cell_type": "code",
   "execution_count": 4,
   "metadata": {
    "collapsed": true
   },
   "outputs": [],
   "source": [
    "Ls = [2.5, 3.0, 3.5, 4.0, 4.5, 5.0, 5.5, 6.0, 6.5, 7.0, 7.5, 8.0]\n",
    "mus = [1.0, 1.5, 2.0, 2.5, 3.0, 3.5, 4.0, 4.5, 5.0, 5.5, 6.0, 6.5, 7.0]\n",
    "r11s = [0.1, 0.2, 0.3, 0.4, 0.5, 0.6, 0.7, 0.8, 0.9, 1.0]\n",
    "ns = [0, 1, 2, 3, 4, 5, 6]\n",
    "cs = [1, 2, 3, 4, 5]"
   ]
  },
  {
   "cell_type": "code",
   "execution_count": null,
   "metadata": {
    "collapsed": true
   },
   "outputs": [],
   "source": [
    "overall_times_to_deadlock_L = {}\n",
    "for L in tqdm.tqdm_notebook(Ls):\n",
    "    N = ciw.create_network(**params)\n",
    "    N.customer_classes[0].arrival_distributions[0][1] = L\n",
    "    overall_times_to_deadlock_L[L] = []\n",
    "    for repetition in tqdm.tqdm_notebook(range(10000)):\n",
    "        ciw.seed(repetition)\n",
    "        Q = ciw.Simulation(N, deadlock_detector='StateDigraph')\n",
    "        Q.simulate_until_deadlock()\n",
    "        overall_times_to_deadlock_L[L].append(Q.times_to_deadlock[((0, 0), )])"
   ]
  },
  {
   "cell_type": "code",
   "execution_count": null,
   "metadata": {
    "collapsed": true
   },
   "outputs": [],
   "source": [
    "to_csv = []\n",
    "for L in overall_times_to_deadlock_L:\n",
    "    row = [L] + overall_times_to_deadlock_L[L]\n",
    "    to_csv.append(row)\n",
    "\n",
    "\n",
    "with open('data_for_paper/1NodeMS/deadlocking_times_L.csv', 'w') as csvfile:\n",
    "    csvwriter = csv.writer(csvfile)\n",
    "    for row in to_csv:\n",
    "        csvwriter.writerow(row)"
   ]
  },
  {
   "cell_type": "code",
   "execution_count": null,
   "metadata": {
    "collapsed": true
   },
   "outputs": [],
   "source": [
    "overall_times_to_deadlock_mu = {}\n",
    "for mu in tqdm.tqdm_notebook(mus):\n",
    "    N = ciw.create_network(**params)\n",
    "    N.customer_classes[0].service_distributions[0][1] = mu\n",
    "    overall_times_to_deadlock_mu[mu] = []\n",
    "    for repetition in tqdm.tqdm_notebook(range(10000)):\n",
    "        ciw.seed(repetition)\n",
    "        Q = ciw.Simulation(N, deadlock_detector='StateDigraph')\n",
    "        Q.simulate_until_deadlock()\n",
    "        overall_times_to_deadlock_mu[mu].append(Q.times_to_deadlock[((0, 0), )])"
   ]
  },
  {
   "cell_type": "code",
   "execution_count": null,
   "metadata": {
    "collapsed": true
   },
   "outputs": [],
   "source": [
    "to_csv = []\n",
    "for mu in overall_times_to_deadlock_mu:\n",
    "    row = [mu] + overall_times_to_deadlock_mu[mu]\n",
    "    to_csv.append(row)\n",
    "\n",
    "\n",
    "with open('data_for_paper/1NodeMS/deadlocking_times_mu.csv', 'w') as csvfile:\n",
    "    csvwriter = csv.writer(csvfile)\n",
    "    for row in to_csv:\n",
    "        csvwriter.writerow(row)"
   ]
  },
  {
   "cell_type": "code",
   "execution_count": null,
   "metadata": {
    "collapsed": true
   },
   "outputs": [],
   "source": [
    "overall_times_to_deadlock_r11 = {}\n",
    "for r11 in tqdm.tqdm_notebook(r11s):\n",
    "    N = ciw.create_network(**params)\n",
    "    N.customer_classes[0].transition_matrix[0][0] = r11\n",
    "    overall_times_to_deadlock_r11[r11] = []\n",
    "    for repetition in tqdm.tqdm_notebook(range(10000)):\n",
    "        ciw.seed(repetition)\n",
    "        Q = ciw.Simulation(N, deadlock_detector='StateDigraph')\n",
    "        Q.simulate_until_deadlock()\n",
    "        overall_times_to_deadlock_r11[r11].append(Q.times_to_deadlock[((0, 0), )])"
   ]
  },
  {
   "cell_type": "code",
   "execution_count": null,
   "metadata": {
    "collapsed": true
   },
   "outputs": [],
   "source": [
    "to_csv = []\n",
    "for r11 in overall_times_to_deadlock_r11:\n",
    "    row = [r11] + overall_times_to_deadlock_r11[r11]\n",
    "    to_csv.append(row)\n",
    "\n",
    "\n",
    "with open('data_for_paper/1NodeMS/deadlocking_times_r11.csv', 'w') as csvfile:\n",
    "    csvwriter = csv.writer(csvfile)\n",
    "    for row in to_csv:\n",
    "        csvwriter.writerow(row)"
   ]
  },
  {
   "cell_type": "code",
   "execution_count": 5,
   "metadata": {},
   "outputs": [
    {
     "data": {
      "application/vnd.jupyter.widget-view+json": {
       "model_id": "0cf28898c73d4c70aeabb4cbe1b3aa9a"
      }
     },
     "metadata": {},
     "output_type": "display_data"
    },
    {
     "data": {
      "application/vnd.jupyter.widget-view+json": {
       "model_id": "d5f50fc09dcc4b3a92bc0d0b726522cc"
      }
     },
     "metadata": {},
     "output_type": "display_data"
    },
    {
     "data": {
      "application/vnd.jupyter.widget-view+json": {
       "model_id": "8ba96935b65e4e2ebb5c9ace33078c33"
      }
     },
     "metadata": {},
     "output_type": "display_data"
    },
    {
     "data": {
      "application/vnd.jupyter.widget-view+json": {
       "model_id": "6fef4c3413e54606b0af124498f6e736"
      }
     },
     "metadata": {},
     "output_type": "display_data"
    },
    {
     "data": {
      "application/vnd.jupyter.widget-view+json": {
       "model_id": "bac65f482b2945338af4f0183c261463"
      }
     },
     "metadata": {},
     "output_type": "display_data"
    },
    {
     "data": {
      "application/vnd.jupyter.widget-view+json": {
       "model_id": "ae7c85b385fb4ca29c1f993910582726"
      }
     },
     "metadata": {},
     "output_type": "display_data"
    },
    {
     "data": {
      "application/vnd.jupyter.widget-view+json": {
       "model_id": "cab3cd51f07840afac54a07c6e1144b0"
      }
     },
     "metadata": {},
     "output_type": "display_data"
    },
    {
     "data": {
      "application/vnd.jupyter.widget-view+json": {
       "model_id": "ac0843ad225d404ca3bc268a7ddf23ee"
      }
     },
     "metadata": {},
     "output_type": "display_data"
    },
    {
     "name": "stdout",
     "output_type": "stream",
     "text": [
      "\n"
     ]
    }
   ],
   "source": [
    "overall_times_to_deadlock_n = {}\n",
    "for n in tqdm.tqdm_notebook(ns):\n",
    "    N = ciw.create_network(**params)\n",
    "    N.service_centres[0].queueing_capacity = n\n",
    "    overall_times_to_deadlock_n[n] = []\n",
    "    for repetition in tqdm.tqdm_notebook(range(10000)):\n",
    "        ciw.seed(repetition)\n",
    "        Q = ciw.Simulation(N, deadlock_detector='StateDigraph')\n",
    "        Q.simulate_until_deadlock()\n",
    "        overall_times_to_deadlock_n[n].append(Q.times_to_deadlock[((0, 0), )])"
   ]
  },
  {
   "cell_type": "code",
   "execution_count": 6,
   "metadata": {
    "collapsed": true
   },
   "outputs": [],
   "source": [
    "to_csv = []\n",
    "for n in overall_times_to_deadlock_n:\n",
    "    row = [n] + overall_times_to_deadlock_n[n]\n",
    "    to_csv.append(row)\n",
    "\n",
    "\n",
    "with open('data_for_paper/1NodeMS/deadlocking_times_n.csv', 'w') as csvfile:\n",
    "    csvwriter = csv.writer(csvfile)\n",
    "    for row in to_csv:\n",
    "        csvwriter.writerow(row)"
   ]
  },
  {
   "cell_type": "code",
   "execution_count": 5,
   "metadata": {},
   "outputs": [
    {
     "data": {
      "application/vnd.jupyter.widget-view+json": {
       "model_id": "d451848be6864e8b9b24de742ca565bd"
      }
     },
     "metadata": {},
     "output_type": "display_data"
    },
    {
     "data": {
      "application/vnd.jupyter.widget-view+json": {
       "model_id": "d7d10ea705874ba8ad0a5cead9b7a630"
      }
     },
     "metadata": {},
     "output_type": "display_data"
    },
    {
     "data": {
      "application/vnd.jupyter.widget-view+json": {
       "model_id": "1fcc87f22ee540019034d3fc7435d7da"
      }
     },
     "metadata": {},
     "output_type": "display_data"
    },
    {
     "data": {
      "application/vnd.jupyter.widget-view+json": {
       "model_id": "23db4439358041bbb72f1d84044c1c7c"
      }
     },
     "metadata": {},
     "output_type": "display_data"
    },
    {
     "data": {
      "application/vnd.jupyter.widget-view+json": {
       "model_id": "0f072fa5671347219943712c39941fb8"
      }
     },
     "metadata": {},
     "output_type": "display_data"
    },
    {
     "data": {
      "application/vnd.jupyter.widget-view+json": {
       "model_id": "a84db0c51abe48b7b7e0b379ac4bcee4"
      }
     },
     "metadata": {},
     "output_type": "display_data"
    },
    {
     "name": "stdout",
     "output_type": "stream",
     "text": [
      "\n"
     ]
    }
   ],
   "source": [
    "overall_times_to_deadlock_c = {}\n",
    "for c in tqdm.tqdm_notebook(cs):\n",
    "    N = ciw.create_network(**params)\n",
    "    N.service_centres[0].number_of_servers = c\n",
    "    overall_times_to_deadlock_c[c] = []\n",
    "    for repetition in tqdm.tqdm_notebook(range(10000)):\n",
    "        ciw.seed(repetition)\n",
    "        Q = ciw.Simulation(N, deadlock_detector='StateDigraph')\n",
    "        Q.simulate_until_deadlock()\n",
    "        overall_times_to_deadlock_c[c].append(Q.times_to_deadlock[((0, 0), )])"
   ]
  },
  {
   "cell_type": "code",
   "execution_count": 7,
   "metadata": {
    "collapsed": true
   },
   "outputs": [],
   "source": [
    "to_csv = []\n",
    "for c in overall_times_to_deadlock_c:\n",
    "    row = [c] + overall_times_to_deadlock_c[c]\n",
    "    to_csv.append(row)\n",
    "\n",
    "\n",
    "with open('data_for_paper/1NodeMS/deadlocking_times_c.csv', 'w') as csvfile:\n",
    "    csvwriter = csv.writer(csvfile)\n",
    "    for row in to_csv:\n",
    "        csvwriter.writerow(row)"
   ]
  },
  {
   "cell_type": "code",
   "execution_count": null,
   "metadata": {
    "collapsed": true
   },
   "outputs": [],
   "source": []
  },
  {
   "cell_type": "code",
   "execution_count": null,
   "metadata": {
    "collapsed": true
   },
   "outputs": [],
   "source": []
  }
 ],
 "metadata": {
  "kernelspec": {
   "display_name": "Python 3",
   "language": "python",
   "name": "python3"
  },
  "language_info": {
   "codemirror_mode": {
    "name": "ipython",
    "version": 3
   },
   "file_extension": ".py",
   "mimetype": "text/x-python",
   "name": "python",
   "nbconvert_exporter": "python",
   "pygments_lexer": "ipython3",
   "version": "3.5.1"
  }
 },
 "nbformat": 4,
 "nbformat_minor": 1
}
